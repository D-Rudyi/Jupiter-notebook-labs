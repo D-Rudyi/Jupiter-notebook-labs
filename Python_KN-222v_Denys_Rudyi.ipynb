{
 "cells": [
  {
   "cell_type": "raw",
   "id": "88fd5fd8-ec9e-490f-985a-7e7b04ce1186",
   "metadata": {},
   "source": [
    "Завдання 1\n",
    "Варіант:"
   ]
  },
  {
   "cell_type": "code",
   "execution_count": 6,
   "id": "a574d621-1089-4d75-b6d1-e233e07f7223",
   "metadata": {
    "scrolled": true
   },
   "outputs": [
    {
     "data": {
      "text/plain": [
       "9"
      ]
     },
     "execution_count": 6,
     "metadata": {},
     "output_type": "execute_result"
    }
   ],
   "source": [
    "ord(\"D\") % 10 + 1"
   ]
  },
  {
   "cell_type": "markdown",
   "id": "42f15462-c303-4017-96d9-7ed4dbb7c6f9",
   "metadata": {},
   "source": [
    "# Чеська Республіка\n",
    "\n",
    "## Загальні відомості\n",
    "**Чеська Республіка** - країна в Центральній Європі.\n",
    "\n",
    "### Основна інформація:\n",
    "- **Столиця**: Прага\n",
    "- **Площа**: 78 865 км²\n",
    "- **Населення**: 10,7 млн осіб\n",
    "- **Державний устрій**: Парламентська республіка\n",
    "\n",
    "## Видатні персоналії\n",
    "1. **Томаш Гарріг Масарик** — перший президент Чехословаччини.\n",
    "2. **Мілан Кундера** — відомий письменник.\n",
    "3. **Ян Гус** — релігійний реформатор.\n",
    "\n",
    "## Культурні та природні пам'ятки\n",
    "- **Карлів міст** — знаменитий кам'яний міст у Празі.\n",
    "- **Замок Градчани** — одна з найбільших старовинних фортець у світі.\n",
    "- **Чеський рай** — національний парк з унікальними природними ландшафтами.\n",
    "\n",
    "### Таблиця населення за містами:\n",
    "| Місто       | Населення    |\n",
    "|-------------|--------------|\n",
    "| Прага       | 1,3 млн      |\n",
    "| Брно        | 380 тис.     |\n",
    "| Острава     | 290 тис.     |\n",
    "\n",
    "### Вкладені списки:\n",
    "- **Культура**:\n",
    "  - Музика\n",
    "    - Антонін Дворжак\n",
    "    - Бедржих Сметана\n",
    "  - Література\n",
    "    - Франц Кафка\n",
    "    - Ярослав Гашек\n",
    "\n",
    "## Вбудовані зображення:\n",
    "![Собор Святого Віта](https://www.hrad.cz/file/edee/public/2024/02/svatyvit-20150923-141241-20240207-124204.jpg)\n",
    "\n",
    "## Гіперпосилання\n",
    "Детальніше про [Чеську Республіку](https://uk.wikipedia.org/wiki/%D0%A7%D0%B5%D1%85%D1%96%D1%8F).\n"
   ]
  },
  {
   "cell_type": "code",
   "execution_count": 17,
   "id": "26365d58-f3bc-4a6c-92cd-8ce057e23cc1",
   "metadata": {},
   "outputs": [
    {
     "data": {
      "text/html": [
       "<style>\n",
       "    .flag {\n",
       "        width: 300px;\n",
       "        height: 200px;\n",
       "        border: 2px solid black; \n",
       "    }\n",
       "</style>\n",
       "<svg class=\"flag\" viewBox=\"0 0 3 2\">\n",
       "    <rect width=\"3\" height=\"1\" y=\"0\" fill=\"white\"/>\n",
       "    <rect width=\"3\" height=\"1\" y=\"1\" fill=\"#D7141A\"/>\n",
       "    <polygon points=\"0,0 1.5,1 0,2\" fill=\"#11457E\"/>\n",
       "</svg>\n"
      ],
      "text/plain": [
       "<IPython.core.display.HTML object>"
      ]
     },
     "metadata": {},
     "output_type": "display_data"
    }
   ],
   "source": [
    "%%HTML\n",
    "<style>\n",
    "    .flag {\n",
    "        width: 300px;\n",
    "        height: 200px;\n",
    "        border: 2px solid black; \n",
    "    }\n",
    "</style>\n",
    "<svg class=\"flag\" viewBox=\"0 0 3 2\">\n",
    "    <rect width=\"3\" height=\"1\" y=\"0\" fill=\"white\"/>\n",
    "    <rect width=\"3\" height=\"1\" y=\"1\" fill=\"#D7141A\"/>\n",
    "    <polygon points=\"0,0 1.5,1 0,2\" fill=\"#11457E\"/>\n",
    "</svg>"
   ]
  },
  {
   "cell_type": "code",
   "execution_count": 14,
   "id": "7bc4b0d7-065c-46ab-add3-0f50eaabc958",
   "metadata": {},
   "outputs": [
    {
     "name": "stdin",
     "output_type": "stream",
     "text": [
      "Введіть список чисел через пробіл:  1 2 3 4 5\n"
     ]
    },
    {
     "name": "stdout",
     "output_type": "stream",
     "text": [
      "Відсортовані непарні числа: [5, 3, 1]\n"
     ]
    }
   ],
   "source": [
    "def filter_and_sort_odds():\n",
    "    try:\n",
    "        user_input = input(\"Введіть список чисел через пробіл: \")\n",
    "        numbers = user_input.split()\n",
    "\n",
    "        valid_numbers = []\n",
    "        for num in numbers:\n",
    "            try:\n",
    "                valid_numbers.append(int(num))\n",
    "            except ValueError:\n",
    "                print(f\"Помилка: '{num}' не є числом. Пропускаємо.\")\n",
    "        \n",
    "        odd_numbers = []\n",
    "        for num in valid_numbers:\n",
    "            if num % 2 != 0:\n",
    "                odd_numbers.append(num)\n",
    "\n",
    "        for i in range(len(odd_numbers)):\n",
    "            for j in range(i + 1, len(odd_numbers)):\n",
    "                if odd_numbers[i] < odd_numbers[j]:\n",
    "                    odd_numbers[i], odd_numbers[j] = odd_numbers[j], odd_numbers[i]\n",
    "\n",
    "        if not odd_numbers:\n",
    "            print(\"Непарних чисел немає.\")\n",
    "        else:\n",
    "            print(f\"Відсортовані непарні числа: {odd_numbers}\")\n",
    "    \n",
    "    except Exception as e:\n",
    "        print(f\"Сталася помилка: {e}\")\n",
    "\n",
    "filter_and_sort_odds()\n"
   ]
  },
  {
   "cell_type": "code",
   "execution_count": null,
   "id": "9a691ad1-0129-44f2-bad2-85bc939177e0",
   "metadata": {},
   "outputs": [],
   "source": []
  }
 ],
 "metadata": {
  "kernelspec": {
   "display_name": "Python 3 (ipykernel)",
   "language": "python",
   "name": "python3"
  },
  "language_info": {
   "codemirror_mode": {
    "name": "ipython",
    "version": 3
   },
   "file_extension": ".py",
   "mimetype": "text/x-python",
   "name": "python",
   "nbconvert_exporter": "python",
   "pygments_lexer": "ipython3",
   "version": "3.12.4"
  }
 },
 "nbformat": 4,
 "nbformat_minor": 5
}
