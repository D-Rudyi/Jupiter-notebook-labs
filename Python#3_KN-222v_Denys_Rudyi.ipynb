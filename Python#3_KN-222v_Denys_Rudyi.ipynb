{
 "cells": [
  {
   "cell_type": "code",
   "execution_count": 13,
   "id": "2d4964b2-d5f2-48ae-b8b0-b37c839f8051",
   "metadata": {},
   "outputs": [
    {
     "data": {
      "text/plain": [
       "2"
      ]
     },
     "execution_count": 13,
     "metadata": {},
     "output_type": "execute_result"
    }
   ],
   "source": [
    "(22 + 4 ) % 5 + 1"
   ]
  },
  {
   "cell_type": "code",
   "execution_count": 55,
   "id": "39d1a1e2-5230-45a5-8ff9-35ad2cab485e",
   "metadata": {},
   "outputs": [
    {
     "name": "stdout",
     "output_type": "stream",
     "text": [
      "Index(['Id', 'Name', 'Year', 'Gender', 'Count'], dtype='object')\n"
     ]
    }
   ],
   "source": [
    "#3\n",
    "import pandas as pd\n",
    "\n",
    "df = pd.read_csv('NationalNames.csv')\n",
    "\n",
    "column_names = df.columns\n",
    "\n",
    "print(column_names)\n"
   ]
  },
  {
   "cell_type": "code",
   "execution_count": 53,
   "id": "ee700480-e082-4433-96c9-7bbbbff3247b",
   "metadata": {},
   "outputs": [
    {
     "name": "stdout",
     "output_type": "stream",
     "text": [
      "                 Id          Year         Count\n",
      "count  1.825433e+06  1.825433e+06  1.825433e+06\n",
      "mean   9.127170e+05  1.972620e+03  1.846879e+02\n",
      "std    5.269573e+05  3.352891e+01  1.566711e+03\n",
      "min    1.000000e+00  1.880000e+03  5.000000e+00\n",
      "25%    4.563590e+05  1.949000e+03  7.000000e+00\n",
      "50%    9.127170e+05  1.982000e+03  1.200000e+01\n",
      "75%    1.369075e+06  2.001000e+03  3.200000e+01\n",
      "max    1.825433e+06  2.014000e+03  9.968000e+04\n"
     ]
    }
   ],
   "source": [
    "#4\n",
    "import pandas as pd\n",
    "\n",
    "df = pd.read_csv('NationalNames.csv')\n",
    "\n",
    "# Отримання загальної інформації для стовпців Id, Year, та Count\n",
    "summary = df[['Id', 'Year', 'Count']].describe()\n",
    "\n",
    "print(summary)\n"
   ]
  },
  {
   "cell_type": "code",
   "execution_count": 51,
   "id": "174d2a28-f095-4f2e-b59c-0c4bc70280fe",
   "metadata": {},
   "outputs": [
    {
     "name": "stdout",
     "output_type": "stream",
     "text": [
      "93889\n"
     ]
    }
   ],
   "source": [
    "#5\n",
    "import pandas as pd\n",
    "\n",
    "df = pd.read_csv('NationalNames.csv')\n",
    "\n",
    "# Підрахунок кількості унікальних імен\n",
    "unique_names_count = df['Name'].nunique()\n",
    "\n",
    "print(unique_names_count)\n"
   ]
  },
  {
   "cell_type": "code",
   "execution_count": 49,
   "id": "e3d5beec-3f0b-4bf3-acaa-120064484a22",
   "metadata": {},
   "outputs": [
    {
     "name": "stdout",
     "output_type": "stream",
     "text": [
      "The name is 'Linda' in 1947\n"
     ]
    }
   ],
   "source": [
    "#8\n",
    "import pandas as pd\n",
    "\n",
    "df = pd.read_csv('NationalNames.csv')\n",
    "\n",
    "# Знаходимо рядок з максимальним значенням Count\n",
    "most_popular_name_row = df[df['Count'] == df['Count'].max()]\n",
    "\n",
    "# Отримуємо ім'я та рік\n",
    "name = most_popular_name_row['Name'].values[0]\n",
    "year = most_popular_name_row['Year'].values[0]\n",
    "\n",
    "print(f\"The name is '{name}' in {year}\")"
   ]
  },
  {
   "cell_type": "code",
   "execution_count": 47,
   "id": "abd3d9ac-0fec-4cab-899d-00a4f411b492",
   "metadata": {},
   "outputs": [
    {
     "name": "stdout",
     "output_type": "stream",
     "text": [
      "254615\n"
     ]
    }
   ],
   "source": [
    "#9\n",
    "import pandas as pd\n",
    "\n",
    "df = pd.read_csv('NationalNames.csv')\n",
    "\n",
    "# Знаходимо мінімальне значення Count\n",
    "min_count = df['Count'].min()\n",
    "\n",
    "# Підрахунок кількості записів з мінімальним значенням Count\n",
    "min_count_records = (df['Count'] == min_count).sum()\n",
    "\n",
    "print(min_count_records)\n"
   ]
  },
  {
   "cell_type": "code",
   "execution_count": 45,
   "id": "9ecdbc63-213d-4fa8-a5ff-73694017f500",
   "metadata": {},
   "outputs": [
    {
     "name": "stdout",
     "output_type": "stream",
     "text": [
      "2008 32488\n"
     ]
    }
   ],
   "source": [
    "#11\n",
    "import pandas as pd\n",
    "\n",
    "df = pd.read_csv('NationalNames.csv')\n",
    "\n",
    "# Підрахунок унікальних імен для кожного року\n",
    "unique_names_per_year = df.groupby('Year')['Name'].nunique()\n",
    "\n",
    "# Знаходимо рік із найбільшою кількістю унікальних імен\n",
    "year_with_most_unique_names = unique_names_per_year.idxmax()\n",
    "max_unique_names = unique_names_per_year.max()\n",
    "\n",
    "print(f\"{year_with_most_unique_names} {max_unique_names}\")\n"
   ]
  },
  {
   "cell_type": "code",
   "execution_count": 43,
   "id": "b97ffadf-6633-4bef-9253-6eeeb245e9a1",
   "metadata": {},
   "outputs": [
    {
     "name": "stdout",
     "output_type": "stream",
     "text": [
      "Jacob\n"
     ]
    }
   ],
   "source": [
    "#12\n",
    "import pandas as pd\n",
    "\n",
    "df = pd.read_csv('NationalNames.csv')\n",
    "\n",
    "# Підрахунок унікальних імен для кожного року\n",
    "unique_names_per_year = df.groupby('Year')['Name'].nunique()\n",
    "\n",
    "# Знаходимо рік із найбільшою кількістю унікальних імен\n",
    "year_with_most_unique_names = unique_names_per_year.idxmax()\n",
    "\n",
    "# Фільтруємо дані за цим роком\n",
    "data_for_year = df[df['Year'] == year_with_most_unique_names]\n",
    "\n",
    "# Знаходимо ім'я з максимальним значенням Count у цьому році\n",
    "most_popular_name = data_for_year.loc[data_for_year['Count'].idxmax(), 'Name']\n",
    "\n",
    "print(most_popular_name)\n"
   ]
  },
  {
   "cell_type": "code",
   "execution_count": 41,
   "id": "0823282a-b090-4a73-a66d-7364dcc4b991",
   "metadata": {},
   "outputs": [
    {
     "name": "stdout",
     "output_type": "stream",
     "text": [
      "Id        1455557\n",
      "Name        Jacob\n",
      "Year         2004\n",
      "Gender          F\n",
      "Count         171\n",
      "Name: 1455556, dtype: object\n"
     ]
    }
   ],
   "source": [
    "#13\n",
    "import pandas as pd\n",
    "\n",
    "df = pd.read_csv('NationalNames.csv')\n",
    "\n",
    "# Фільтруємо дані для імені \"Jacob\" і жіночої статі (Gender == 'F')\n",
    "jacob_female = df[(df['Name'] == 'Jacob') & (df['Gender'] == 'F')]\n",
    "\n",
    "# Знаходимо рядок з максимальним значенням Count\n",
    "most_popular_jacob_female = jacob_female.loc[jacob_female['Count'].idxmax()]\n",
    "\n",
    "print(most_popular_jacob_female)\n"
   ]
  },
  {
   "cell_type": "code",
   "execution_count": 57,
   "id": "39e49ead-512c-44e4-a9b3-32b4fc217e10",
   "metadata": {},
   "outputs": [
    {
     "name": "stdout",
     "output_type": "stream",
     "text": [
      "2008\n",
      "2557\n"
     ]
    }
   ],
   "source": [
    "#14\n",
    "import pandas as pd\n",
    "\n",
    "df = pd.read_csv('NationalNames.csv')\n",
    "\n",
    "# Групуємо дані за роком і ім'ям та перевіряємо, чи є ім'я для обох статей\n",
    "gender_neutral = df.groupby(['Year', 'Name', 'Gender']).size().unstack(fill_value=0)\n",
    "\n",
    "# Відфільтровуємо імена, які мають записи для обох статей\n",
    "gender_neutral_names = gender_neutral[(gender_neutral['F'] > 0) & (gender_neutral['M'] > 0)]\n",
    "\n",
    "# Підраховуємо кількість гендерно нейтральних імен для кожного року\n",
    "gender_neutral_per_year = gender_neutral_names.groupby('Year').size()\n",
    "\n",
    "# Знаходимо рік із найбільшою кількістю гендерно нейтральних імен\n",
    "year_with_most_gender_neutral_names = gender_neutral_per_year.idxmax()\n",
    "max_gender_neutral_names = gender_neutral_per_year.max()\n",
    "\n",
    "print(f\"{year_with_most_gender_neutral_names}\\n{max_gender_neutral_names}\")\n"
   ]
  },
  {
   "cell_type": "code",
   "execution_count": 59,
   "id": "73cd45ab-a155-4ab6-a39c-b85b6707b821",
   "metadata": {},
   "outputs": [
    {
     "name": "stdout",
     "output_type": "stream",
     "text": [
      "1957\n"
     ]
    }
   ],
   "source": [
    "#16\n",
    "import pandas as pd\n",
    "\n",
    "df = pd.read_csv('NationalNames.csv')\n",
    "\n",
    "# Підрахунок загальної кількості народжених дітей для кожного року\n",
    "total_births_per_year = df.groupby('Year')['Count'].sum()\n",
    "\n",
    "# Знаходимо рік з найбільшою кількістю народжених дітей\n",
    "year_with_most_births = total_births_per_year.idxmax()\n",
    "\n",
    "print(year_with_most_births)\n"
   ]
  },
  {
   "cell_type": "code",
   "execution_count": 61,
   "id": "6f5f13f5-d7f3-4247-b469-c30a94be120d",
   "metadata": {},
   "outputs": [
    {
     "name": "stdout",
     "output_type": "stream",
     "text": [
      "Gender       F       M\n",
      "Year                  \n",
      "1880     90993  110491\n",
      "1881     91954  100745\n",
      "1882    107850  113688\n",
      "1883    112321  104629\n",
      "1884    129022  114445\n"
     ]
    }
   ],
   "source": [
    "#17\n",
    "import pandas as pd\n",
    "\n",
    "df = pd.read_csv('NationalNames.csv')\n",
    "\n",
    "# Групування даних за роком та статтю, підрахунок загальної кількості\n",
    "births_per_year_gender = df.groupby(['Year', 'Gender'])['Count'].sum().unstack()\n",
    "\n",
    "print(births_per_year_gender.head())\n"
   ]
  },
  {
   "cell_type": "code",
   "execution_count": 63,
   "id": "01124335-2f1f-4e7f-a463-ab4c89123069",
   "metadata": {},
   "outputs": [
    {
     "name": "stdout",
     "output_type": "stream",
     "text": [
      "54\n"
     ]
    }
   ],
   "source": [
    "#18\n",
    "import pandas as pd\n",
    "\n",
    "df = pd.read_csv('NationalNames.csv')\n",
    "\n",
    "# Групування даних за роком та статтю, підрахунок загальної кількості\n",
    "births_per_year_gender = df.groupby(['Year', 'Gender'])['Count'].sum().unstack()\n",
    "\n",
    "# Підрахунок кількості років, коли дівчаток більше, ніж хлопчиків\n",
    "years_with_more_girls = (births_per_year_gender['F'] > births_per_year_gender['M']).sum()\n",
    "\n",
    "print(years_with_more_girls)\n"
   ]
  },
  {
   "cell_type": "code",
   "execution_count": 77,
   "id": "a8cf4f9f-0001-4dbb-986d-098de51698b2",
   "metadata": {},
   "outputs": [
    {
     "data": {
      "image/png": "[encoded data removed]",
      "text/plain": [
       "<Figure size 1300x600 with 1 Axes>"
      ]
     },
     "metadata": {},
     "output_type": "display_data"
    }
   ],
   "source": [
    "#19\n",
    "import pandas as pd\n",
    "import matplotlib.pyplot as plt\n",
    "\n",
    "df = pd.read_csv('NationalNames.csv')\n",
    "\n",
    "# Групування даних за роком та статтю, підрахунок загальної кількості\n",
    "births_per_year_gender = df.groupby(['Year', 'Gender'])['Count'].sum().unstack()\n",
    "\n",
    "# Побудова графіка\n",
    "plt.figure(figsize=(13, 6))\n",
    "plt.plot(births_per_year_gender.index, births_per_year_gender['F'], label='F', color='blue')\n",
    "plt.plot(births_per_year_gender.index, births_per_year_gender['M'], label='M', color='pink')\n",
    "\n",
    "# Додавання заголовків та міток\n",
    "plt.title('Total Births per year ')\n",
    "plt.xlabel('Year')\n",
    "plt.ylabel('Total Births')\n",
    "plt.legend()\n",
    "plt.grid()\n",
    "\n",
    "plt.xlim(births_per_year_gender.index.min(), births_per_year_gender.index.max())\n",
    "plt.ylim(0, births_per_year_gender.max().max() * 1.1)\n",
    "\n",
    "plt.show()\n"
   ]
  },
  {
   "cell_type": "code",
   "execution_count": 79,
   "id": "3ddd9256-bd50-48ce-8858-8b931c96950c",
   "metadata": {},
   "outputs": [
    {
     "name": "stdout",
     "output_type": "stream",
     "text": [
      "10221\n"
     ]
    }
   ],
   "source": [
    "#20\n",
    "import pandas as pd\n",
    "\n",
    "df = pd.read_csv('NationalNames.csv')\n",
    "\n",
    "# Групування даних за ім'ям та підрахунок кількості статей\n",
    "gender_counts = df.groupby('Name')['Gender'].nunique()\n",
    "\n",
    "# Підрахунок гендерно нейтральних імен\n",
    "gender_neutral_names_count = (gender_counts[gender_counts > 1]).count()\n",
    "\n",
    "print(gender_neutral_names_count)\n"
   ]
  },
  {
   "cell_type": "code",
   "execution_count": 97,
   "id": "72850ecb-087a-496e-b6a0-25e31ba62950",
   "metadata": {},
   "outputs": [
    {
     "name": "stdout",
     "output_type": "stream",
     "text": [
      "Спостереження проводилось 135 років\n"
     ]
    }
   ],
   "source": [
    "#22\n",
    "import pandas as pd\n",
    "\n",
    "df = pd.read_csv('NationalNames.csv')\n",
    "\n",
    "# Підрахунок кількості унікальних років\n",
    "unique_years_count = df['Year'].nunique()\n",
    "\n",
    "print(f\"Спостереження проводилось {unique_years_count} років\")\n"
   ]
  },
  {
   "cell_type": "code",
   "execution_count": 151,
   "id": "3791a93a-1373-4ced-a2a1-16e1a19c96ae",
   "metadata": {},
   "outputs": [
    {
     "name": "stdout",
     "output_type": "stream",
     "text": [
      "Index(['Marion', 'Sidney', 'William', 'James', 'Joseph', 'Jesse', 'Lee',\n",
      "       'Ollie', 'Jean', 'Robert', 'Jessie', 'Johnnie', 'Tommie', 'John',\n",
      "       'Leslie', 'Francis'],\n",
      "      dtype='object', name='Name')\n"
     ]
    }
   ],
   "source": [
    "#23\n",
    "import pandas as pd\n",
    "\n",
    "df = pd.read_csv('NationalNames.csv')\n",
    "\n",
    "# Групування даних за ім'ям та статтю, підрахунок кількості для кожного імені\n",
    "gender_counts = df.groupby('Name')['Gender'].value_counts().unstack(fill_value=0)\n",
    "\n",
    "# Визначення гендерно-нейтральних імен\n",
    "gender_neutral_names = gender_counts[(gender_counts['F'] > 0) & (gender_counts['M'] > 0)]\n",
    "\n",
    "# Створення нового DataFrame з гендерно-нейтральними іменами та їхньою кількістю\n",
    "popular_gender_neutral_names = pd.DataFrame({\n",
    "    'F': gender_neutral_names['F'],\n",
    "    'M': gender_neutral_names['M'],\n",
    "    'Total': gender_neutral_names['F'] + gender_neutral_names['M']\n",
    "})\n",
    "\n",
    "# Сортування за загальною кількістю\n",
    "popular_gender_neutral_names = popular_gender_neutral_names.sort_values(by='Total', ascending=False)\n",
    "\n",
    "# Вибір тільки найпопулярніших\n",
    "result = popular_gender_neutral_names.index[:16]\n",
    "\n",
    "print(result)\n"
   ]
  },
  {
   "cell_type": "code",
   "execution_count": 9,
   "id": "90c85a05-f9e6-4a3b-aaa5-22d6411cf403",
   "metadata": {},
   "outputs": [
    {
     "name": "stdout",
     "output_type": "stream",
     "text": [
      "Найбільш популярне з непопулярних імен – це Julius. Їм називали 160 разів\n"
     ]
    }
   ],
   "source": [
    "#24\n",
    "import pandas as pd\n",
    "\n",
    "df = pd.read_csv('NationalNames.csv')\n",
    "\n",
    "threshold = 161\n",
    "\n",
    "# Вибір непопулярних імен\n",
    "unpopular_names = df[df['Count'] < threshold]\n",
    "\n",
    "# Пошук імені з найбільшою кількістю повторень серед непопулярних\n",
    "most_popular_of_unpopular = unpopular_names.loc[unpopular_names['Count'].idxmax()]\n",
    "\n",
    "print(f\"Найбільш популярне з непопулярних імен – це {most_popular_of_unpopular['Name']}. Їм називали {most_popular_of_unpopular['Count']} разів\")\n"
   ]
  },
  {
   "cell_type": "code",
   "execution_count": 1,
   "id": "4916d911-605b-4852-8445-7d1e6690cacf",
   "metadata": {},
   "outputs": [
    {
     "name": "stdout",
     "output_type": "stream",
     "text": [
      "          Name  Count\n",
      "Year                 \n",
      "1880      John   9655\n",
      "1881      John   8769\n",
      "1882      John   9557\n",
      "1883      John   8894\n",
      "1884      John   9388\n",
      "...        ...    ...\n",
      "2010  Isabella  22883\n",
      "2011    Sophia  21816\n",
      "2012    Sophia  22267\n",
      "2013    Sophia  21147\n",
      "2014      Emma  20799\n",
      "\n",
      "[135 rows x 2 columns]\n"
     ]
    }
   ],
   "source": [
    "#27\n",
    "import pandas as pd\n",
    "\n",
    "df = pd.read_csv('NationalNames.csv')\n",
    "\n",
    "# Групування даних за роком і ім'ям, підрахунок максимального значення Count\n",
    "popular_names_per_year = df.loc[df.groupby(['Year'])['Count'].idxmax()][['Year', 'Name', 'Count']]\n",
    "\n",
    "# Встановлення Year як індекс для кращого вигляду\n",
    "popular_names_per_year.set_index('Year', inplace=True)\n",
    "\n",
    "print(popular_names_per_year)\n"
   ]
  }
 ],
 "metadata": {
  "kernelspec": {
   "display_name": "Python 3 (ipykernel)",
   "language": "python",
   "name": "python3"
  },
  "language_info": {
   "codemirror_mode": {
    "name": "ipython",
    "version": 3
   },
   "file_extension": ".py",
   "mimetype": "text/x-python",
   "name": "python",
   "nbconvert_exporter": "python",
   "pygments_lexer": "ipython3",
   "version": "3.12.4"
  }
 },
 "nbformat": 4,
 "nbformat_minor": 5
}
